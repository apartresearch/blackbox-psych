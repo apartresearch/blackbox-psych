{
 "cells": [
  {
   "cell_type": "code",
   "execution_count": 17,
   "metadata": {},
   "outputs": [],
   "source": [
    "import sys\n",
    "sys.path.append('../')\n",
    "import src.prompts as prompts\n",
    "import pandas as pd"
   ]
  },
  {
   "cell_type": "code",
   "execution_count": 2,
   "metadata": {},
   "outputs": [],
   "source": [
    "prompts.authenticate_goose(\"../config.json\")"
   ]
  },
  {
   "cell_type": "code",
   "execution_count": 3,
   "metadata": {},
   "outputs": [],
   "source": [
    "def read_txt(filename: str) -> str:\n",
    "    with open(filename) as f:\n",
    "        return f.read()"
   ]
  },
  {
   "cell_type": "code",
   "execution_count": 4,
   "metadata": {},
   "outputs": [],
   "source": [
    "import re\n",
    "baseprompt = read_txt(\"question_prompt.txt\")\n",
    "baseprompt = re.sub(r'^.*?I', 'I', baseprompt)\n",
    "prompt = baseprompt + \"Q: What significant event happened in October 2006?\\n\"\n"
   ]
  },
  {
   "cell_type": "code",
   "execution_count": 5,
   "metadata": {},
   "outputs": [],
   "source": [
    "import random\n",
    "\n",
    "months = [\"January\", \"February\", \"March\", \"April\", \"May\", \"June\", \"July\", \"August\", \"September\", \"October\", \"November\", \"December\"]\n",
    "years = [\"2017\", \"2018\", \"2019\", \"2020\", \"2021\", \"2022\", \"2023\", \"2024\"]\n",
    "def create_date(month, year):\n",
    "    return month + \" \" + year\n",
    "\n",
    "def create_dates(years, n=3):\n",
    "    dates = []\n",
    "    for year in years:\n",
    "        for _ in range(n):\n",
    "            month = random.choice(months)\n",
    "            dates.append(create_date(month, year))\n",
    "    return set(dates)\n",
    "\n",
    "def create_prompt(baseprompt: str, date: str):\n",
    "    return baseprompt + f\"Q: What significant event happened in {date}?\\n\"\n",
    "\n",
    "all_dates = create_dates(years)\n",
    "all_prompts = {date: create_prompt(baseprompt, date) for date in all_dates}"
   ]
  },
  {
   "cell_type": "code",
   "execution_count": 14,
   "metadata": {},
   "outputs": [],
   "source": [
    "testytest = {key: prompts.generate_n_prompts(prompt, model_name=\"gpt-j-6b\", n_completions=3, stop_token=\"\\n\") for key, prompt in all_prompts.items()}"
   ]
  },
  {
   "cell_type": "code",
   "execution_count": 24,
   "metadata": {},
   "outputs": [],
   "source": [
    "def clean_answer(answer: str):\n",
    "    \"\"\"\n",
    "    Removes the A: from the answer and splits by first newline \n",
    "    \"\"\"\n",
    "    answer = answer.replace(\"A: \", \"\")\n",
    "    answer = answer.split(\"\\n\")[0]\n",
    "    \n",
    "    return answer\n",
    "\n",
    "clean_answers = {key: [clean_answer(answer) for answer in answers] for key, answers in testytest.items()}"
   ]
  },
  {
   "cell_type": "code",
   "execution_count": 34,
   "metadata": {},
   "outputs": [
    {
     "data": {
      "text/html": [
       "<div>\n",
       "<style scoped>\n",
       "    .dataframe tbody tr th:only-of-type {\n",
       "        vertical-align: middle;\n",
       "    }\n",
       "\n",
       "    .dataframe tbody tr th {\n",
       "        vertical-align: top;\n",
       "    }\n",
       "\n",
       "    .dataframe thead th {\n",
       "        text-align: right;\n",
       "    }\n",
       "</style>\n",
       "<table border=\"1\" class=\"dataframe\">\n",
       "  <thead>\n",
       "    <tr style=\"text-align: right;\">\n",
       "      <th></th>\n",
       "      <th>index</th>\n",
       "      <th>variable</th>\n",
       "      <th>answer</th>\n",
       "    </tr>\n",
       "  </thead>\n",
       "  <tbody>\n",
       "    <tr>\n",
       "      <th>0</th>\n",
       "      <td>March 2024</td>\n",
       "      <td>0</td>\n",
       "      <td>There will be a world religious war.</td>\n",
       "    </tr>\n",
       "    <tr>\n",
       "      <th>1</th>\n",
       "      <td>April 2020</td>\n",
       "      <td>0</td>\n",
       "      <td>The 2020 United States presidential election o...</td>\n",
       "    </tr>\n",
       "    <tr>\n",
       "      <th>2</th>\n",
       "      <td>September 2023</td>\n",
       "      <td>0</td>\n",
       "      <td>The St. Louis Rams will move to Los Angeles fo...</td>\n",
       "    </tr>\n",
       "    <tr>\n",
       "      <th>3</th>\n",
       "      <td>November 2022</td>\n",
       "      <td>0</td>\n",
       "      <td>I am unable to tell you what happened.</td>\n",
       "    </tr>\n",
       "    <tr>\n",
       "      <th>4</th>\n",
       "      <td>October 2021</td>\n",
       "      <td>0</td>\n",
       "      <td>Born in Alabama</td>\n",
       "    </tr>\n",
       "    <tr>\n",
       "      <th>...</th>\n",
       "      <td>...</td>\n",
       "      <td>...</td>\n",
       "      <td>...</td>\n",
       "    </tr>\n",
       "    <tr>\n",
       "      <th>58</th>\n",
       "      <td>July 2018</td>\n",
       "      <td>2</td>\n",
       "      <td>In July 2018, the Grammy Awards were held in L...</td>\n",
       "    </tr>\n",
       "    <tr>\n",
       "      <th>59</th>\n",
       "      <td>June 2022</td>\n",
       "      <td>2</td>\n",
       "      <td>According to the 100-year clock on the wall, t...</td>\n",
       "    </tr>\n",
       "    <tr>\n",
       "      <th>60</th>\n",
       "      <td>October 2019</td>\n",
       "      <td>2</td>\n",
       "      <td>The rest of the world stopped questioning huma...</td>\n",
       "    </tr>\n",
       "    <tr>\n",
       "      <th>61</th>\n",
       "      <td>April 2018</td>\n",
       "      <td>2</td>\n",
       "      <td>The first test-firing of a Minuteman III inter...</td>\n",
       "    </tr>\n",
       "    <tr>\n",
       "      <th>62</th>\n",
       "      <td>November 2021</td>\n",
       "      <td>2</td>\n",
       "      <td>During the American election in November 2021,...</td>\n",
       "    </tr>\n",
       "  </tbody>\n",
       "</table>\n",
       "<p>63 rows × 3 columns</p>\n",
       "</div>"
      ],
      "text/plain": [
       "             index variable                                             answer\n",
       "0       March 2024        0               There will be a world religious war.\n",
       "1       April 2020        0  The 2020 United States presidential election o...\n",
       "2   September 2023        0  The St. Louis Rams will move to Los Angeles fo...\n",
       "3    November 2022        0             I am unable to tell you what happened.\n",
       "4     October 2021        0                                    Born in Alabama\n",
       "..             ...      ...                                                ...\n",
       "58       July 2018        2  In July 2018, the Grammy Awards were held in L...\n",
       "59       June 2022        2  According to the 100-year clock on the wall, t...\n",
       "60    October 2019        2  The rest of the world stopped questioning huma...\n",
       "61      April 2018        2  The first test-firing of a Minuteman III inter...\n",
       "62   November 2021        2  During the American election in November 2021,...\n",
       "\n",
       "[63 rows x 3 columns]"
      ]
     },
     "execution_count": 34,
     "metadata": {},
     "output_type": "execute_result"
    }
   ],
   "source": [
    "def answers_to_df(answers: dict) -> pd.DataFrame:\n",
    "    answer_df = pd.DataFrame.from_dict(answers, orient='index').reset_index()\n",
    "    melted_df = answer_df.melt(id_vars='index', value_name='answer') \n",
    "\n",
    "    return melted_df\n",
    "\n",
    "answers_to_df(clean_answers)\n"
   ]
  }
 ],
 "metadata": {
  "interpreter": {
   "hash": "c5923c95a727ee36eb19daf1b1449e67914ae9326dbd02e970c5c5d61e9f98bc"
  },
  "kernelspec": {
   "display_name": "Python 3.9.12 ('cds-lang')",
   "language": "python",
   "name": "python3"
  },
  "language_info": {
   "codemirror_mode": {
    "name": "ipython",
    "version": 3
   },
   "file_extension": ".py",
   "mimetype": "text/x-python",
   "name": "python",
   "nbconvert_exporter": "python",
   "pygments_lexer": "ipython3",
   "version": "3.9.12"
  },
  "orig_nbformat": 4
 },
 "nbformat": 4,
 "nbformat_minor": 2
}
