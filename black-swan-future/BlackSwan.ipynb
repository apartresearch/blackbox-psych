{
 "cells": [
  {
   "cell_type": "code",
   "execution_count": 17,
   "metadata": {},
   "outputs": [],
   "source": [
    "import sys\n",
    "sys.path.append('../')\n",
    "import src.prompts as prompts\n",
    "import pandas as pd"
   ]
  },
  {
   "cell_type": "code",
   "execution_count": 2,
   "metadata": {},
   "outputs": [],
   "source": [
    "prompts.authenticate_goose(\"../config.json\")"
   ]
  },
  {
   "cell_type": "code",
   "execution_count": 3,
   "metadata": {},
   "outputs": [],
   "source": [
    "def read_txt(filename: str) -> str:\n",
    "    with open(filename) as f:\n",
    "        return f.read()"
   ]
  },
  {
   "cell_type": "code",
   "execution_count": 4,
   "metadata": {},
   "outputs": [],
   "source": [
    "import re\n",
    "baseprompt = read_txt(\"question_prompt.txt\")\n",
    "baseprompt = re.sub(r'^.*?I', 'I', baseprompt)\n",
    "prompt = baseprompt + \"Q: What significant event happened in October 2006?\\n\"\n"
   ]
  },
  {
   "cell_type": "code",
   "execution_count": 5,
   "metadata": {},
   "outputs": [],
   "source": [
    "import random\n",
    "\n",
    "months = [\"January\", \"February\", \"March\", \"April\", \"May\", \"June\", \"July\", \"August\", \"September\", \"October\", \"November\", \"December\"]\n",
    "years = [\"2017\", \"2018\", \"2019\", \"2020\", \"2021\", \"2022\", \"2023\", \"2024\"]\n",
    "def create_date(month, year):\n",
    "    return month + \" \" + year\n",
    "\n",
    "def create_dates(years, n=3):\n",
    "    dates = []\n",
    "    for year in years:\n",
    "        for _ in range(n):\n",
    "            month = random.choice(months)\n",
    "            dates.append(create_date(month, year))\n",
    "    return set(dates)\n",
    "\n",
    "def create_prompt(baseprompt: str, date: str):\n",
    "    return baseprompt + f\"Q: What significant event happened in {date}?\\n\"\n",
    "\n",
    "all_dates = create_dates(years)\n",
    "all_prompts = {date: create_prompt(baseprompt, date) for date in all_dates}"
   ]
  },
  {
   "cell_type": "code",
   "execution_count": 14,
   "metadata": {},
   "outputs": [],
   "source": [
    "testytest = {key: prompts.generate_n_prompts(prompt, model_name=\"gpt-j-6b\", n_completions=3, stop_token=\"\\n\") for key, prompt in all_prompts.items()}"
   ]
  }
 ],
 "metadata": {
  "interpreter": {
   "hash": "c5923c95a727ee36eb19daf1b1449e67914ae9326dbd02e970c5c5d61e9f98bc"
  },
  "kernelspec": {
   "display_name": "Python 3.9.12 ('cds-lang')",
   "language": "python",
   "name": "python3"
  },
  "language_info": {
   "codemirror_mode": {
    "name": "ipython",
    "version": 3
   },
   "file_extension": ".py",
   "mimetype": "text/x-python",
   "name": "python",
   "nbconvert_exporter": "python",
   "pygments_lexer": "ipython3",
   "version": "3.9.12"
  },
  "orig_nbformat": 4
 },
 "nbformat": 4,
 "nbformat_minor": 2
}
