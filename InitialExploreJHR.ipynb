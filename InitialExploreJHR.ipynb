{
 "cells": [
  {
   "cell_type": "markdown",
   "metadata": {},
   "source": [
    "# Exploring Anchoring\n",
    "This notebook is for doing initial explorations of how to investigate anchoring / in general conduct psychological experiments on large language models"
   ]
  },
  {
   "cell_type": "code",
   "execution_count": 63,
   "metadata": {},
   "outputs": [],
   "source": [
    "import openai\n",
    "import json\n",
    "import numpy as np\n",
    "import random\n",
    "import asyncio\n",
    "import pandas as pd"
   ]
  },
  {
   "cell_type": "code",
   "execution_count": 11,
   "metadata": {},
   "outputs": [],
   "source": [
    "def read_json(filename: str) -> dict:\n",
    "    with open(filename) as f:\n",
    "        return json.load(f)\n",
    "\n",
    "        \n",
    "def get_api_key(config, keyname: str = \"goose_api\") -> str:\n",
    "    \"\"\"\n",
    "    Gets the API key from the config file.\n",
    "    \"\"\"\n",
    "    return read_json(config)[keyname]\n",
    "    \n",
    "def authenticate_goose(config) -> None:\n",
    "    \"\"\"\n",
    "    Authenticates with the goose API.\n",
    "    \"\"\"\n",
    "    api_key = get_api_key(config, keyname=\"goose_api\")\n",
    "    openai.api_key = api_key\n",
    "    openai.api_base = \"https://api.goose.ai/v1\"\n",
    "\n",
    "def generate_prompt(\n",
    "    prompt: str, model_name: str = \"gpt-neo-125m\", max_tokens: int = 75, temperature=0.9\n",
    ") -> str:\n",
    "    \"\"\"\n",
    "    Generates a prompt using a model from EleutherAI.\n",
    "    \"\"\"\n",
    "    return openai.Completion.create(\n",
    "        prompt=prompt,\n",
    "        engine=model_name,\n",
    "        max_tokens=max_tokens,\n",
    "        temperature=temperature,\n",
    "    )[\"choices\"][0][\"text\"]"
   ]
  },
  {
   "cell_type": "code",
   "execution_count": 4,
   "metadata": {},
   "outputs": [],
   "source": [
    "api_key = read_json('config.json')['goose_api']"
   ]
  },
  {
   "cell_type": "code",
   "execution_count": 5,
   "metadata": {},
   "outputs": [],
   "source": [
    "test_question = \"Height of Mount Everest (in feet):\""
   ]
  },
  {
   "cell_type": "code",
   "execution_count": 6,
   "metadata": {},
   "outputs": [],
   "source": [
    "# generate random integer between 1 and 100\n",
    "true_height = 29031.7\n",
    "low_num = random.randint(2000, 5000)\n",
    "high_num = random.randint(50_000, 100_000)"
   ]
  },
  {
   "cell_type": "code",
   "execution_count": 7,
   "metadata": {},
   "outputs": [
    {
     "name": "stdout",
     "output_type": "stream",
     "text": [
      "3566\n",
      "Height of Mount Everest (in feet):\n"
     ]
    }
   ],
   "source": [
    "q_prompt = f\"{low_num}\\n{test_question}\"\n",
    "print(q_prompt)"
   ]
  },
  {
   "cell_type": "code",
   "execution_count": 12,
   "metadata": {},
   "outputs": [],
   "source": [
    "authenticate_goose('config.json')"
   ]
  },
  {
   "cell_type": "code",
   "execution_count": 17,
   "metadata": {},
   "outputs": [],
   "source": [
    "answer = generate_prompt(q_prompt, max_tokens=10)"
   ]
  },
  {
   "cell_type": "code",
   "execution_count": 97,
   "metadata": {},
   "outputs": [],
   "source": [
    "import re\n",
    "def find_first_num(s: str):\n",
    "    \"\"\"\n",
    "    Finds first integer or floating point in string\n",
    "    \"\"\"\n",
    "    try: \n",
    "        return re.findall(r\"[-+]?(?:\\d*\\.\\d+|\\d+)\", s)[0]\n",
    "    except IndexError:\n",
    "        return None\n"
   ]
  },
  {
   "cell_type": "code",
   "execution_count": 25,
   "metadata": {},
   "outputs": [],
   "source": [
    "N = 10\n",
    "answers = [None for _ in range(N)]\n",
    "for i in range(N):\n",
    "    #num = random.randint(2000, 5000)\n",
    "    num = random.randint(50_000, 100_000)\n",
    "    q_prompt = f\"Random number: {num}\\n{test_question}\"\n",
    "    answer = generate_prompt(q_prompt, max_tokens=10)\n",
    "    answers[i] = answer"
   ]
  },
  {
   "cell_type": "code",
   "execution_count": 36,
   "metadata": {},
   "outputs": [],
   "source": [
    "# numpy log numbers between 1 and 1_000_000\n",
    "N = 3\n",
    "log_nums = np.logspace(3, 5, num=10, base=10, dtype=int)\n",
    "answer_dict = dict.fromkeys(log_nums)\n",
    "for num in log_nums:\n",
    "    prompt_list = []\n",
    "    for i in range(N):\n",
    "        q_prompt = f\"Random number: {num}\\n{test_question}\"\n",
    "        answer = generate_prompt(q_prompt, max_tokens=10)\n",
    "        prompt_list.append(answer)\n",
    "    answer_dict[num] = prompt_list\n"
   ]
  },
  {
   "cell_type": "code",
   "execution_count": 92,
   "metadata": {},
   "outputs": [],
   "source": [
    "# async requests with the goose API\n",
    "async def get_answer(num: int, model_type=\"fairseq-6-7b\") -> str:\n",
    "    \"\"\"\n",
    "    Gets an answer from the goose API.\n",
    "    \"\"\"\n",
    "    q_prompt = f\"Random number: {num}\\n{test_question}\"\n",
    "    result = generate_prompt(q_prompt, max_tokens=10, model_name=model_type)\n",
    "    return result"
   ]
  },
  {
   "cell_type": "code",
   "execution_count": 42,
   "metadata": {},
   "outputs": [],
   "source": [
    "result = asyncio.gather(*[get_answer(log_nums[0]) for _ in range(3)])"
   ]
  },
  {
   "cell_type": "code",
   "execution_count": 93,
   "metadata": {},
   "outputs": [],
   "source": [
    "# numpy log numbers between 1 and 1_000_000\n",
    "N = 10\n",
    "log_nums = np.logspace(3, 5, num=10, base=10, dtype=int)\n",
    "answer_dict = dict.fromkeys(log_nums)\n",
    "for num in log_nums:\n",
    "    answer = asyncio.gather(*[get_answer(num) for _ in range(N)])\n",
    "    answer_dict[num] = answer"
   ]
  },
  {
   "cell_type": "code",
   "execution_count": 94,
   "metadata": {},
   "outputs": [],
   "source": [
    "new_dict = {k: v.result() for k, v in answer_dict.items()}"
   ]
  },
  {
   "cell_type": "code",
   "execution_count": 95,
   "metadata": {},
   "outputs": [],
   "source": [
    "newer_dict = {k: [find_first_num(i) for i in v] for k, v in new_dict.items()}"
   ]
  },
  {
   "cell_type": "code",
   "execution_count": 96,
   "metadata": {},
   "outputs": [
    {
     "data": {
      "text/plain": [
       "<AxesSubplot:xlabel='x', ylabel='y'>"
      ]
     },
     "execution_count": 96,
     "metadata": {},
     "output_type": "execute_result"
    },
    {
     "data": {
      "image/png": "[encoded data removed]",
      "text/plain": [
       "<Figure size 432x288 with 1 Axes>"
      ]
     },
     "metadata": {
      "needs_background": "light"
     },
     "output_type": "display_data"
    }
   ],
   "source": [
    "df = pd.concat({k: pd.Series(v) for k, v in newer_dict.items()}).reset_index().dropna()\n",
    "df.columns = [\"x\", \"ignore\", \"y\"]\n",
    "df[\"y\"] = df[\"y\"].astype(float)\n",
    "df.plot(x=\"x\", y=\"y\", kind=\"scatter\")"
   ]
  },
  {
   "cell_type": "code",
   "execution_count": 91,
   "metadata": {},
   "outputs": [
    {
     "data": {
      "text/plain": [
       "(100,)"
      ]
     },
     "execution_count": 91,
     "metadata": {},
     "output_type": "execute_result"
    }
   ],
   "source": [
    "df[\"y\"].shape"
   ]
  }
 ],
 "metadata": {
  "interpreter": {
   "hash": "c5923c95a727ee36eb19daf1b1449e67914ae9326dbd02e970c5c5d61e9f98bc"
  },
  "kernelspec": {
   "display_name": "Python 3.9.12 ('cds-lang')",
   "language": "python",
   "name": "python3"
  },
  "language_info": {
   "codemirror_mode": {
    "name": "ipython",
    "version": 3
   },
   "file_extension": ".py",
   "mimetype": "text/x-python",
   "name": "python",
   "nbconvert_exporter": "python",
   "pygments_lexer": "ipython3",
   "version": "3.9.12"
  },
  "orig_nbformat": 4
 },
 "nbformat": 4,
 "nbformat_minor": 2
}
