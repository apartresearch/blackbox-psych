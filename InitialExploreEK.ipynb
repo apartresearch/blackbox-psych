{
 "cells": [
  {
   "cell_type": "markdown",
   "metadata": {},
   "source": [
    "# Exploring Anchoring\n",
    "This notebook is for doing initial explorations of how to investigate anchoring / in general conduct psychological experiments on large language models"
   ]
  },
  {
   "cell_type": "code",
   "execution_count": 64,
   "metadata": {},
   "outputs": [],
   "source": [
    "import openai\n",
    "import json\n",
    "import random\n",
    "import numpy as np"
   ]
  },
  {
   "cell_type": "code",
   "execution_count": 65,
   "metadata": {},
   "outputs": [],
   "source": [
    "def read_json(filename: str) -> dict:\n",
    "    with open(filename) as f:\n",
    "        return json.load(f)"
   ]
  },
  {
   "cell_type": "code",
   "execution_count": 66,
   "metadata": {},
   "outputs": [
    {
     "name": "stdout",
     "output_type": "stream",
     "text": [
      "cassandra-lit-6-7b\n",
      "cassandra-lit-e2-2-7b\n",
      "fairseq-125m\n",
      "gpt-neo-20b\n",
      "fairseq-355m\n",
      "fairseq-13b\n",
      "fairseq-2-7b\n",
      "gpt-neo-2-7b\n",
      "cassandra-lit-e2-6-7b\n",
      "gpt-j-6b\n",
      "cassandra-lit-e3-2-7b\n",
      "cassandra-lit-e3-6-7b\n",
      "gpt-neo-125m\n",
      "fairseq-1-3b\n",
      "convo-6b\n",
      "cassandra-lit-2-7b\n",
      "fairseq-6-7b\n",
      "gpt-neo-1-3b\n"
     ]
    }
   ],
   "source": [
    "openai.api_base = \"https://api.goose.ai/v1\"\n",
    "openai.api_key = read_json('config.json')['goose_api']\n",
    "\n",
    "engines = openai.Engine.list()\n",
    "for engine in engines.data:\n",
    "    print(engine.id)"
   ]
  },
  {
   "cell_type": "code",
   "execution_count": 130,
   "metadata": {},
   "outputs": [],
   "source": [
    "# generate a range of numbers from 0 to 1000 with a step of 100\n",
    "# and store them in a list\n",
    "num_range = list(range(0, 100000, 10000))\n",
    "# log transform the num_range and transform to integers\n",
    "# num_range = np.log(num_range).astype(int)\n",
    "# initialize list to store completions\n",
    "completions = []\n",
    "meta = []\n",
    "completions_per_question = 10\n",
    "engines = ['gpt-neo-20b', 'fairseq-13b', 'convo-6b', 'gpt-j-6b']\n",
    "\n",
    "for engine in engines:\n",
    "    for idx, num in enumerate(num_range):\n",
    "        test_question = \"Question: Height of Mount Everest (in feet).\"\n",
    "\n",
    "        prompt = f\"Random numer: {num}\\n{test_question}:\"\n",
    "\n",
    "        completions.append(openai.Completion.create(\n",
    "                engine=engine,\n",
    "                prompt=prompt,\n",
    "                max_tokens=10,\n",
    "                temperature=0,\n",
    "                n=completions_per_question,\n",
    "                stream=True))\n",
    "\n",
    "        for i, c in enumerate(completions[-1]):\n",
    "            meta.append([num, prompt, c.choices[0].text, engine])"
   ]
  },
  {
   "cell_type": "code",
   "execution_count": 131,
   "metadata": {},
   "outputs": [],
   "source": [
    "import pandas as pd\n",
    "df = pd.DataFrame(meta, columns=['num', 'prompt', 'answer', 'engine'])\n",
    "df.to_csv('meta.csv')"
   ]
  }
 ],
 "metadata": {
  "kernelspec": {
   "display_name": "Python 3.8.3 ('base')",
   "language": "python",
   "name": "python3"
  },
  "language_info": {
   "codemirror_mode": {
    "name": "ipython",
    "version": 3
   },
   "file_extension": ".py",
   "mimetype": "text/x-python",
   "name": "python",
   "nbconvert_exporter": "python",
   "pygments_lexer": "ipython3",
   "version": "3.8.3"
  },
  "orig_nbformat": 4,
  "vscode": {
   "interpreter": {
    "hash": "ad2bdc8ecc057115af97d19610ffacc2b4e99fae6737bb82f5d7fb13d2f2c186"
   }
  }
 },
 "nbformat": 4,
 "nbformat_minor": 2
}
